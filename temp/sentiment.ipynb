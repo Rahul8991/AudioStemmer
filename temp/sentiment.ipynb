{
 "cells": [
  {
   "cell_type": "code",
   "execution_count": null,
   "metadata": {},
   "outputs": [],
   "source": [
    "positive_words=[]\n",
    "with open(r'C:\\Users\\Rahul\\Desktop\\NLP\\Sentiment Analysis\\files\\positive_words.txt','r') as f:\n",
    "    for lines in enumerate(f):\n",
    "        positive_words.append(lines[1].strip('\\n'))\n",
    "print(positive_words)\n",
    "\n",
    "\n",
    "negative_words=[]\n",
    "with open(r'C:\\Users\\Rahul\\Desktop\\NLP\\Sentiment Analysis\\files\\negative_words.txt','r') as f:\n",
    "    for lines in enumerate(f):\n",
    "        negative_words.append(lines[1].strip('\\n'))\n",
    "print(negative_words)\n",
    "\n",
    "\n",
    "line_list=[]\n",
    "with open(r'C:\\Users\\Rahul\\Desktop\\NLP\\stemming\\output\\stemmedtextoutput','r') as f:\n",
    "    for lines in enumerate(f):\n",
    "            line_list.append(lines[1].strip('\\n'))\n",
    "print(line_list) \n",
    "\n",
    "word_list=[]\n",
    "for sentence in line_list:\n",
    "    print(sentence)\n",
    "    print(type(sentence))\n",
    "    print(len(sentence))\n",
    "    print(sentence.split(' '))\n",
    "    word_list=[i for i in sentence.split(' ') if i]\n",
    "    print(word_list)"
   ]
  },
  {
   "cell_type": "code",
   "execution_count": 15,
   "metadata": {},
   "outputs": [
    {
     "name": "stdout",
     "output_type": "stream",
     "text": [
      "3\n",
      "15 %\n"
     ]
    }
   ],
   "source": [
    "pscore=0\n",
    "for word in word_list:\n",
    "    for pword in positive_words:\n",
    "        if(word==pword):\n",
    "            pscore+=1\n",
    "print(pscore)\n",
    "ppercent=int(pscore/len(word_list)*100)\n",
    "print(f\"{ppercent} %\")"
   ]
  },
  {
   "cell_type": "code",
   "execution_count": 16,
   "metadata": {},
   "outputs": [
    {
     "name": "stdout",
     "output_type": "stream",
     "text": [
      "1\n",
      "5 %\n"
     ]
    }
   ],
   "source": [
    "nscore=0\n",
    "for word in word_list:\n",
    "    for nword in negative_words:\n",
    "        if(word==nword):\n",
    "            nscore+=1\n",
    "print(nscore)\n",
    "npercent=int(nscore/len(word_list)*100)\n",
    "print(f\"{npercent} %\")"
   ]
  },
  {
   "cell_type": "code",
   "execution_count": 17,
   "metadata": {},
   "outputs": [
    {
     "name": "stdout",
     "output_type": "stream",
     "text": [
      "Positive Audio File\n"
     ]
    }
   ],
   "source": [
    "if(ppercent > npercent):\n",
    "    print(\"Positive Audio File\")\n",
    "else:\n",
    "    print(\"Negative Audio File\")    "
   ]
  },
  {
   "cell_type": "code",
   "execution_count": null,
   "metadata": {},
   "outputs": [],
   "source": []
  },
  {
   "cell_type": "code",
   "execution_count": null,
   "metadata": {},
   "outputs": [],
   "source": []
  },
  {
   "cell_type": "code",
   "execution_count": null,
   "metadata": {},
   "outputs": [],
   "source": []
  }
 ],
 "metadata": {
  "kernelspec": {
   "display_name": "Python 3.9.0 ('audiostemmer')",
   "language": "python",
   "name": "python3"
  },
  "language_info": {
   "codemirror_mode": {
    "name": "ipython",
    "version": 3
   },
   "file_extension": ".py",
   "mimetype": "text/x-python",
   "name": "python",
   "nbconvert_exporter": "python",
   "pygments_lexer": "ipython3",
   "version": "3.9.0"
  },
  "orig_nbformat": 4,
  "vscode": {
   "interpreter": {
    "hash": "5e34e203c70f6b9a9054a89d860cfde08d0d92e3287e72048b768c75078c61e9"
   }
  }
 },
 "nbformat": 4,
 "nbformat_minor": 2
}
