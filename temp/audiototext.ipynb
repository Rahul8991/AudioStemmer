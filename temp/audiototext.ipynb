{
 "cells": [
  {
   "cell_type": "code",
   "execution_count": 12,
   "metadata": {},
   "outputs": [],
   "source": [
    "import speech_recognition as sr\n",
    "import os"
   ]
  },
  {
   "cell_type": "code",
   "execution_count": 29,
   "metadata": {},
   "outputs": [
    {
     "name": "stdout",
     "output_type": "stream",
     "text": [
      "Converting...\n",
      "she has toxic receivers what is known as military no Rag like that it was a bright like that\n"
     ]
    }
   ],
   "source": [
    "r= sr.Recognizer()\n",
    "\n",
    "with sr.AudioFile(r\"C:/Users/Rahul/Desktop/NLP/audio/car.wav\") as source:\n",
    "    audio_text= r.listen(source)\n",
    "\n",
    "    try:\n",
    "        text=r.recognize_google(audio_data=audio_text)\n",
    "        print('Converting...')\n",
    "        print(text)\n",
    "    except:\n",
    "        print('Sorry.. try again...')    \n",
    "save_path='C:/Users/Rahul/Desktop/NLP/audiototext/output'\n",
    "name='unstemmedtextoutput'        \n",
    "completeName=os.path.join(save_path,name)\n",
    "with open(completeName,'a') as file1:\n",
    "        file1.write(f\"{text}\\n\")\n",
    "        file1.close()\n"
   ]
  },
  {
   "cell_type": "code",
   "execution_count": 28,
   "metadata": {},
   "outputs": [],
   "source": [
    "# with open(completeName,'r') as file1:\n",
    "#         for lines in enumerate(file1):\n",
    "#             print(lines[1])"
   ]
  },
  {
   "cell_type": "code",
   "execution_count": 32,
   "metadata": {},
   "outputs": [
    {
     "data": {
      "text/plain": [
       "'C:/Users/Rahul/Desktop/NLP/car.wav'"
      ]
     },
     "execution_count": 32,
     "metadata": {},
     "output_type": "execute_result"
    }
   ],
   "source": [
    "# audioinput = f\"C:/Users/Rahul/Desktop/NLP/{json_dict['0']['AUDIO_INPUT']}\"\n",
    "# car_file = os.path.join(audioinput,\"car.wav\")\n",
    "# car_file"
   ]
  },
  {
   "cell_type": "code",
   "execution_count": null,
   "metadata": {},
   "outputs": [],
   "source": []
  }
 ],
 "metadata": {
  "kernelspec": {
   "display_name": "Python 3.9.0 ('NLP')",
   "language": "python",
   "name": "python3"
  },
  "language_info": {
   "codemirror_mode": {
    "name": "ipython",
    "version": 3
   },
   "file_extension": ".py",
   "mimetype": "text/x-python",
   "name": "python",
   "nbconvert_exporter": "python",
   "pygments_lexer": "ipython3",
   "version": "3.9.0"
  },
  "orig_nbformat": 4,
  "vscode": {
   "interpreter": {
    "hash": "e05c55f44dba6894fe7cf8ad31b27d743911ca0b2d632eec2b0b59aa3555c93b"
   }
  }
 },
 "nbformat": 4,
 "nbformat_minor": 2
}
