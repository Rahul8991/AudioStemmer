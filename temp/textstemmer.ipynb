{
 "cells": [
  {
   "cell_type": "code",
   "execution_count": 3,
   "metadata": {},
   "outputs": [],
   "source": [
    "import nltk"
   ]
  },
  {
   "cell_type": "code",
   "execution_count": 4,
   "metadata": {},
   "outputs": [
    {
     "name": "stdout",
     "output_type": "stream",
     "text": [
      "showing info https://raw.githubusercontent.com/nltk/nltk_data/gh-pages/index.xml\n"
     ]
    },
    {
     "data": {
      "text/plain": [
       "True"
      ]
     },
     "execution_count": 4,
     "metadata": {},
     "output_type": "execute_result"
    }
   ],
   "source": [
    "nltk.download()"
   ]
  },
  {
   "cell_type": "code",
   "execution_count": 5,
   "metadata": {},
   "outputs": [],
   "source": [
    "from nltk.stem import PorterStemmer\n",
    "from nltk.stem import LancasterStemmer"
   ]
  },
  {
   "cell_type": "code",
   "execution_count": null,
   "metadata": {},
   "outputs": [],
   "source": [
    "from nltk.tokenize import sent_tokenize, word_tokenize\n",
    "\n",
    "class word_stemmer:\n",
    "    def __init__():\n",
    "        ''''''\n",
    "    def stemSentence(sentence):\n",
    "        token_words=word_tokenize(sentence)\n",
    "        token_words\n",
    "        stem_sentence=[]\n",
    "        for word in token_words:\n",
    "            stem_sentence.append(porter.stem(word))\n",
    "            stem_sentence.append(\" \")\n",
    "        return ''.join(stem_sentence)   \n",
    "\n",
    "porter= PorterStemmer() \n",
    "\n",
    "audio= \n",
    "\n",
    "\n",
    "ws1=word_stemmer()\n",
    "x=ws1.stemSentence(sentence) \n",
    "\n",
    " \n",
    "\n"
   ]
  },
  {
   "cell_type": "code",
   "execution_count": 38,
   "metadata": {},
   "outputs": [],
   "source": [
    "# porter= PorterStemmer()\n",
    "# lancaster= LancasterStemmer()\n",
    "\n",
    "# print(\"Porter Stemmer\")\n",
    "# print(porter.stem(\"cats\"))\n",
    "# print(porter.stem(\"trouble\"))\n",
    "# print(porter.stem(\"troubling\"))\n",
    "# print(porter.stem(\"troubled\"))\n",
    "# print(\"Lancaster Stemmer\")\n",
    "# print(lancaster.stem(\"cats\"))\n",
    "# print(lancaster.stem(\"trouble\"))\n",
    "# print(lancaster.stem(\"troubling\"))\n",
    "# print(lancaster.stem(\"troubled\"))\n",
    "\n",
    "\n"
   ]
  },
  {
   "cell_type": "code",
   "execution_count": 39,
   "metadata": {},
   "outputs": [],
   "source": [
    "# word_list=[\"friend\", \"friendship\", \"friends\", \"friendships\",\"stabil\",\"destabilize\",\"misunderstanding\",\"railroad\",\"moonlight\",\"football\"]\n",
    "# print(\"{0:20}{1:20}{2:20}\".format(\"Word\",\"Porter Stemmer\",\"Lancaster Stemmer\"))\n",
    "# for word in word_list:\n",
    "#     print(\"{0:20}{1:20}{2:20}\".format(word,porter.stem(word),lancaster.stem(word)))\n"
   ]
  },
  {
   "cell_type": "code",
   "execution_count": 43,
   "metadata": {},
   "outputs": [
    {
     "ename": "NameError",
     "evalue": "name 'porter' is not defined",
     "output_type": "error",
     "traceback": [
      "\u001b[1;31m---------------------------------------------------------------------------\u001b[0m",
      "\u001b[1;31mNameError\u001b[0m                                 Traceback (most recent call last)",
      "\u001b[1;32m~\\AppData\\Local\\Temp/ipykernel_13212/1635078394.py\u001b[0m in \u001b[0;36m<module>\u001b[1;34m\u001b[0m\n\u001b[0;32m      1\u001b[0m \u001b[0msentence\u001b[0m\u001b[1;33m=\u001b[0m\u001b[1;34m\"Pythoners are very intelligent and work very pythonly and now they are pythoning their way to success.\"\u001b[0m\u001b[1;33m\u001b[0m\u001b[1;33m\u001b[0m\u001b[0m\n\u001b[1;32m----> 2\u001b[1;33m \u001b[0mporter\u001b[0m\u001b[1;33m.\u001b[0m\u001b[0mstem\u001b[0m\u001b[1;33m(\u001b[0m\u001b[0msentence\u001b[0m\u001b[1;33m)\u001b[0m\u001b[1;33m\u001b[0m\u001b[1;33m\u001b[0m\u001b[0m\n\u001b[0m",
      "\u001b[1;31mNameError\u001b[0m: name 'porter' is not defined"
     ]
    }
   ],
   "source": [
    "sentence=\"Pythoners are very intelligent and work very pythonly and now they are pythoning their way to success.\"\n",
    "porter.stem(sentence)"
   ]
  },
  {
   "cell_type": "code",
   "execution_count": 16,
   "metadata": {},
   "outputs": [
    {
     "name": "stdout",
     "output_type": "stream",
     "text": [
      "python are veri intellig and work veri pythonli and now they are python their way to success . \n"
     ]
    }
   ],
   "source": [
    "from nltk.tokenize import sent_tokenize, word_tokenize\n",
    "def stemSentence(sentence):\n",
    "    token_words=word_tokenize(sentence)\n",
    "    token_words\n",
    "    stem_sentence=[]\n",
    "    for word in token_words:\n",
    "        stem_sentence.append(porter.stem(word))\n",
    "        stem_sentence.append(\" \")\n",
    "    return ''.join(stem_sentence)    \n",
    "x=stemSentence(sentence)    \n",
    "print(x)"
   ]
  },
  {
   "cell_type": "code",
   "execution_count": 12,
   "metadata": {},
   "outputs": [
    {
     "name": "stdout",
     "output_type": "stream",
     "text": [
      "['she has toxic receivers what is known as military no Rag like that it was a bright like that', 'she has toxic receivers what is known as military no Rag like that it was a bright like that']\n"
     ]
    }
   ],
   "source": [
    "from nltk.tokenize import sent_tokenize, word_tokenize\n",
    "from nltk.stem import LancasterStemmer\n",
    "from nltk.stem import PorterStemmer\n",
    "import nltk\n",
    "import os\n",
    "# nltk.download()\n",
    "\n",
    "\n",
    "class word_stemmer:\n",
    "\n",
    "    def stemSentence(self, sentence=\"Pythoners are very intelligent and work very pythonly and now they are pythoning their way to success.\"):\n",
    "        porter = PorterStemmer()\n",
    "        token_words = word_tokenize(sentence)\n",
    "        stem_sentence = []\n",
    "        for word in token_words:\n",
    "            stem_sentence.append(porter.stem(word))\n",
    "            stem_sentence.append(\" \")\n",
    "        return ''.join(stem_sentence)\n",
    "\n",
    "\n",
    "save_path = r'C:/Users/Rahul/Desktop/NLP/audiototext/output'\n",
    "name = 'unstemmedtextoutput'\n",
    "unstemmedtextoutput = os.path.join(save_path, name)\n",
    "\n",
    "DIR=r'C:/Users/Rahul/Desktop/NLP/stemming/output'\n",
    "filname='stemmedtextoutput'\n",
    "stemmedtextoutput=os.path.join(DIR,filname)\n",
    "\n",
    "line_list = []\n",
    "\n",
    "with open(unstemmedtextoutput, 'r') as file:\n",
    "    for lines in enumerate(file):\n",
    "        line_list.append(lines[1].strip('\\n'))\n",
    "print(line_list)        \n",
    "for sentence in line_list:\n",
    "    ws1 = word_stemmer()\n",
    "    x = ws1.stemSentence(sentence)\n",
    "    with open(stemmedtextoutput, 'a') as f:\n",
    "        f.write(f\"{x}\\n\")\n",
    "        f.close()\n"
   ]
  },
  {
   "cell_type": "code",
   "execution_count": 16,
   "metadata": {},
   "outputs": [
    {
     "data": {
      "text/plain": [
       "'C:/Users/Rahul/Desktop/NLP/audiototext/output\\\\unstemmedtextoutput'"
      ]
     },
     "execution_count": 16,
     "metadata": {},
     "output_type": "execute_result"
    }
   ],
   "source": [
    "save_path='C:/Users/Rahul/Desktop/NLP/audiototext/output'\n",
    "name='unstemmedtextoutput'        \n",
    "completeName=os.path.join(save_path,name)\n",
    "completeName"
   ]
  },
  {
   "cell_type": "code",
   "execution_count": 19,
   "metadata": {},
   "outputs": [
    {
     "data": {
      "text/plain": [
       "'C:/Users/Rahul/Desktop/NLP\\\\stemming/output'"
      ]
     },
     "execution_count": 19,
     "metadata": {},
     "output_type": "execute_result"
    }
   ],
   "source": [
    "UNSTEMMED_TEXT_OUTPUT = 'C:/Users/Rahul/Desktop/NLP/audiototext/output'\n",
    "BASE_DIR = r'C:/Users/Rahul/Desktop/NLP'\n",
    "os.path.join(BASE_DIR,'audiototext/output')\n",
    "\n",
    "os.path.join(BASE_DIR,'stemming/output')"
   ]
  },
  {
   "cell_type": "code",
   "execution_count": 34,
   "metadata": {},
   "outputs": [],
   "source": []
  },
  {
   "cell_type": "code",
   "execution_count": 64,
   "metadata": {},
   "outputs": [
    {
     "data": {
      "text/plain": [
       "'audio'"
      ]
     },
     "execution_count": 64,
     "metadata": {},
     "output_type": "execute_result"
    }
   ],
   "source": [
    "import os\n",
    "import json \n",
    "userName = input('Please enter your User Name:')\n",
    "BASE_DIR = f\"C:/Users/{userName}/Desktop/NLP/\"\n",
    "json_file_path=f\"{BASE_DIR}DIR_LIST/dir_list.json\"\n",
    "\n",
    "f=open(json_file_path)\n",
    "json_dict=json.load(f)\n",
    "json_dict['0']['UNSTEMMED_TEXT_OUTPUT']\n",
    "\n",
    "f\"{json_dict['0']['AUDIO_INPUT']}\""
   ]
  },
  {
   "cell_type": "code",
   "execution_count": null,
   "metadata": {},
   "outputs": [],
   "source": []
  }
 ],
 "metadata": {
  "kernelspec": {
   "display_name": "Python 3.9.0 ('NLP')",
   "language": "python",
   "name": "python3"
  },
  "language_info": {
   "codemirror_mode": {
    "name": "ipython",
    "version": 3
   },
   "file_extension": ".py",
   "mimetype": "text/x-python",
   "name": "python",
   "nbconvert_exporter": "python",
   "pygments_lexer": "ipython3",
   "version": "3.9.0"
  },
  "orig_nbformat": 4,
  "vscode": {
   "interpreter": {
    "hash": "e05c55f44dba6894fe7cf8ad31b27d743911ca0b2d632eec2b0b59aa3555c93b"
   }
  }
 },
 "nbformat": 4,
 "nbformat_minor": 2
}
